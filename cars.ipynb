{
 "cells": [
  {
   "cell_type": "markdown",
   "metadata": {
    "collapsed": true
   },
   "source": [
    "## Lies `cars.csv` in einen DataFrame"
   ]
  },
  {
   "cell_type": "code",
   "execution_count": 1,
   "outputs": [
    {
     "data": {
      "text/plain": "     price  yearOfRegistration  powerPS  kilometer    model fuelType  \\\n0     1450                1997       75      90000   andere   benzin   \n1    13100                2005      280       5000     golf   benzin   \n2     4500                2008       87      90000    yaris   benzin   \n3     6000                2009      177     125000      3er   diesel   \n4     3990                1999      118      90000      3er   benzin   \n..     ...                 ...      ...        ...      ...      ...   \n245  23400                2014      160      40000   kaefer   benzin   \n246   9000                2014       67      20000  i_reihe   benzin   \n247   5500                2009      109     125000     ceed   benzin   \n248   1600                2002       75     125000     clio   benzin   \n249  11750                2014      109      20000      rio   benzin   \n\n                                                  name  \n0               Toyota_Toyota_Starlet_1._Hand__TÜV_neu  \n1                             R32_tauschen_oder_kaufen  \n2                               Toyota_Yaris_1.3_VVT_i  \n3                           320_Alpinweiss_Kohlenstoff  \n4       BMW_318i_E46_+++_1._Hand_+++_Liebhaberfahrzeug  \n..                                                 ...  \n245                      Volkswagen_1.4_TSI_DSG_R_Line  \n246             Hyundai_i10_1.0_Fifa_World_Cup_Edition  \n247                             Kia_Ceed_1.4_/_TÜV_Neu  \n248                               Renault_Clio_1.2_16V  \n249  Kia_Rio_Dream_Team_Edition_/_7_Jahren_Inspekti...  \n\n[250 rows x 7 columns]",
      "text/html": "<div>\n<style scoped>\n    .dataframe tbody tr th:only-of-type {\n        vertical-align: middle;\n    }\n\n    .dataframe tbody tr th {\n        vertical-align: top;\n    }\n\n    .dataframe thead th {\n        text-align: right;\n    }\n</style>\n<table border=\"1\" class=\"dataframe\">\n  <thead>\n    <tr style=\"text-align: right;\">\n      <th></th>\n      <th>price</th>\n      <th>yearOfRegistration</th>\n      <th>powerPS</th>\n      <th>kilometer</th>\n      <th>model</th>\n      <th>fuelType</th>\n      <th>name</th>\n    </tr>\n  </thead>\n  <tbody>\n    <tr>\n      <th>0</th>\n      <td>1450</td>\n      <td>1997</td>\n      <td>75</td>\n      <td>90000</td>\n      <td>andere</td>\n      <td>benzin</td>\n      <td>Toyota_Toyota_Starlet_1._Hand__TÜV_neu</td>\n    </tr>\n    <tr>\n      <th>1</th>\n      <td>13100</td>\n      <td>2005</td>\n      <td>280</td>\n      <td>5000</td>\n      <td>golf</td>\n      <td>benzin</td>\n      <td>R32_tauschen_oder_kaufen</td>\n    </tr>\n    <tr>\n      <th>2</th>\n      <td>4500</td>\n      <td>2008</td>\n      <td>87</td>\n      <td>90000</td>\n      <td>yaris</td>\n      <td>benzin</td>\n      <td>Toyota_Yaris_1.3_VVT_i</td>\n    </tr>\n    <tr>\n      <th>3</th>\n      <td>6000</td>\n      <td>2009</td>\n      <td>177</td>\n      <td>125000</td>\n      <td>3er</td>\n      <td>diesel</td>\n      <td>320_Alpinweiss_Kohlenstoff</td>\n    </tr>\n    <tr>\n      <th>4</th>\n      <td>3990</td>\n      <td>1999</td>\n      <td>118</td>\n      <td>90000</td>\n      <td>3er</td>\n      <td>benzin</td>\n      <td>BMW_318i_E46_+++_1._Hand_+++_Liebhaberfahrzeug</td>\n    </tr>\n    <tr>\n      <th>...</th>\n      <td>...</td>\n      <td>...</td>\n      <td>...</td>\n      <td>...</td>\n      <td>...</td>\n      <td>...</td>\n      <td>...</td>\n    </tr>\n    <tr>\n      <th>245</th>\n      <td>23400</td>\n      <td>2014</td>\n      <td>160</td>\n      <td>40000</td>\n      <td>kaefer</td>\n      <td>benzin</td>\n      <td>Volkswagen_1.4_TSI_DSG_R_Line</td>\n    </tr>\n    <tr>\n      <th>246</th>\n      <td>9000</td>\n      <td>2014</td>\n      <td>67</td>\n      <td>20000</td>\n      <td>i_reihe</td>\n      <td>benzin</td>\n      <td>Hyundai_i10_1.0_Fifa_World_Cup_Edition</td>\n    </tr>\n    <tr>\n      <th>247</th>\n      <td>5500</td>\n      <td>2009</td>\n      <td>109</td>\n      <td>125000</td>\n      <td>ceed</td>\n      <td>benzin</td>\n      <td>Kia_Ceed_1.4_/_TÜV_Neu</td>\n    </tr>\n    <tr>\n      <th>248</th>\n      <td>1600</td>\n      <td>2002</td>\n      <td>75</td>\n      <td>125000</td>\n      <td>clio</td>\n      <td>benzin</td>\n      <td>Renault_Clio_1.2_16V</td>\n    </tr>\n    <tr>\n      <th>249</th>\n      <td>11750</td>\n      <td>2014</td>\n      <td>109</td>\n      <td>20000</td>\n      <td>rio</td>\n      <td>benzin</td>\n      <td>Kia_Rio_Dream_Team_Edition_/_7_Jahren_Inspekti...</td>\n    </tr>\n  </tbody>\n</table>\n<p>250 rows × 7 columns</p>\n</div>"
     },
     "execution_count": 1,
     "metadata": {},
     "output_type": "execute_result"
    }
   ],
   "source": [
    "import numpy as np\n",
    "import pandas as pd\n",
    "import seaborn as sns\n",
    "from scipy.stats import randint, norm\n",
    "from sklearn.ensemble import RandomForestRegressor\n",
    "from sklearn.impute import SimpleImputer\n",
    "from sklearn.linear_model import LinearRegression\n",
    "from sklearn.metrics import mean_squared_error\n",
    "from sklearn.model_selection import train_test_split, GridSearchCV, RandomizedSearchCV\n",
    "from sklearn.preprocessing import RobustScaler\n",
    "from sklearn.svm import SVR\n",
    "\n",
    "df = pd.read_csv('./data/cars.csv')\n",
    "df"
   ],
   "metadata": {
    "collapsed": false
   }
  },
  {
   "cell_type": "markdown",
   "source": [
    "## Data Cleaning\n",
    "\n",
    "* entferne die Features `model` und `name`\n",
    "* entferne Observations mit `NaN`-Einträgen\n",
    "* entferne Observations, deren `fuelType` nicht `benzin` oder `diesel` ist\n",
    "* Führe ein One-Hot-Encoding für `fuelType` durch"
   ],
   "metadata": {
    "collapsed": false
   }
  },
  {
   "cell_type": "code",
   "execution_count": 2,
   "outputs": [
    {
     "data": {
      "text/plain": "price                 0\nyearOfRegistration    0\npowerPS               0\nkilometer             0\nfuelType              0\ndtype: int64"
     },
     "execution_count": 2,
     "metadata": {},
     "output_type": "execute_result"
    }
   ],
   "source": [
    "df = df.drop(columns=['model','name'])\n",
    "df = df.dropna()\n",
    "df.isna().sum()\n"
   ],
   "metadata": {
    "collapsed": false
   }
  },
  {
   "cell_type": "code",
   "execution_count": 3,
   "outputs": [
    {
     "data": {
      "text/plain": "     price  yearOfRegistration  powerPS  kilometer fuelType\n0     1450                1997       75      90000   benzin\n1    13100                2005      280       5000   benzin\n2     4500                2008       87      90000   benzin\n3     6000                2009      177     125000   diesel\n4     3990                1999      118      90000   benzin\n..     ...                 ...      ...        ...      ...\n245  23400                2014      160      40000   benzin\n246   9000                2014       67      20000   benzin\n247   5500                2009      109     125000   benzin\n248   1600                2002       75     125000   benzin\n249  11750                2014      109      20000   benzin\n\n[238 rows x 5 columns]",
      "text/html": "<div>\n<style scoped>\n    .dataframe tbody tr th:only-of-type {\n        vertical-align: middle;\n    }\n\n    .dataframe tbody tr th {\n        vertical-align: top;\n    }\n\n    .dataframe thead th {\n        text-align: right;\n    }\n</style>\n<table border=\"1\" class=\"dataframe\">\n  <thead>\n    <tr style=\"text-align: right;\">\n      <th></th>\n      <th>price</th>\n      <th>yearOfRegistration</th>\n      <th>powerPS</th>\n      <th>kilometer</th>\n      <th>fuelType</th>\n    </tr>\n  </thead>\n  <tbody>\n    <tr>\n      <th>0</th>\n      <td>1450</td>\n      <td>1997</td>\n      <td>75</td>\n      <td>90000</td>\n      <td>benzin</td>\n    </tr>\n    <tr>\n      <th>1</th>\n      <td>13100</td>\n      <td>2005</td>\n      <td>280</td>\n      <td>5000</td>\n      <td>benzin</td>\n    </tr>\n    <tr>\n      <th>2</th>\n      <td>4500</td>\n      <td>2008</td>\n      <td>87</td>\n      <td>90000</td>\n      <td>benzin</td>\n    </tr>\n    <tr>\n      <th>3</th>\n      <td>6000</td>\n      <td>2009</td>\n      <td>177</td>\n      <td>125000</td>\n      <td>diesel</td>\n    </tr>\n    <tr>\n      <th>4</th>\n      <td>3990</td>\n      <td>1999</td>\n      <td>118</td>\n      <td>90000</td>\n      <td>benzin</td>\n    </tr>\n    <tr>\n      <th>...</th>\n      <td>...</td>\n      <td>...</td>\n      <td>...</td>\n      <td>...</td>\n      <td>...</td>\n    </tr>\n    <tr>\n      <th>245</th>\n      <td>23400</td>\n      <td>2014</td>\n      <td>160</td>\n      <td>40000</td>\n      <td>benzin</td>\n    </tr>\n    <tr>\n      <th>246</th>\n      <td>9000</td>\n      <td>2014</td>\n      <td>67</td>\n      <td>20000</td>\n      <td>benzin</td>\n    </tr>\n    <tr>\n      <th>247</th>\n      <td>5500</td>\n      <td>2009</td>\n      <td>109</td>\n      <td>125000</td>\n      <td>benzin</td>\n    </tr>\n    <tr>\n      <th>248</th>\n      <td>1600</td>\n      <td>2002</td>\n      <td>75</td>\n      <td>125000</td>\n      <td>benzin</td>\n    </tr>\n    <tr>\n      <th>249</th>\n      <td>11750</td>\n      <td>2014</td>\n      <td>109</td>\n      <td>20000</td>\n      <td>benzin</td>\n    </tr>\n  </tbody>\n</table>\n<p>238 rows × 5 columns</p>\n</div>"
     },
     "execution_count": 3,
     "metadata": {},
     "output_type": "execute_result"
    }
   ],
   "source": [
    "df = df[df['fuelType'] != 'lpg']\n",
    "df"
   ],
   "metadata": {
    "collapsed": false
   }
  },
  {
   "cell_type": "code",
   "execution_count": 4,
   "outputs": [
    {
     "data": {
      "text/plain": "     one_hot__fuelType_benzin  one_hot__fuelType_diesel  \\\n0                         1.0                       0.0   \n1                         1.0                       0.0   \n2                         1.0                       0.0   \n3                         0.0                       1.0   \n4                         1.0                       0.0   \n..                        ...                       ...   \n233                       1.0                       0.0   \n234                       1.0                       0.0   \n235                       1.0                       0.0   \n236                       1.0                       0.0   \n237                       1.0                       0.0   \n\n     one_hot__fuelType_hybrid  remainder__price  \\\n0                         0.0            1450.0   \n1                         0.0           13100.0   \n2                         0.0            4500.0   \n3                         0.0            6000.0   \n4                         0.0            3990.0   \n..                        ...               ...   \n233                       0.0           23400.0   \n234                       0.0            9000.0   \n235                       0.0            5500.0   \n236                       0.0            1600.0   \n237                       0.0           11750.0   \n\n     remainder__yearOfRegistration  remainder__powerPS  remainder__kilometer  \n0                           1997.0                75.0               90000.0  \n1                           2005.0               280.0                5000.0  \n2                           2008.0                87.0               90000.0  \n3                           2009.0               177.0              125000.0  \n4                           1999.0               118.0               90000.0  \n..                             ...                 ...                   ...  \n233                         2014.0               160.0               40000.0  \n234                         2014.0                67.0               20000.0  \n235                         2009.0               109.0              125000.0  \n236                         2002.0                75.0              125000.0  \n237                         2014.0               109.0               20000.0  \n\n[238 rows x 7 columns]",
      "text/html": "<div>\n<style scoped>\n    .dataframe tbody tr th:only-of-type {\n        vertical-align: middle;\n    }\n\n    .dataframe tbody tr th {\n        vertical-align: top;\n    }\n\n    .dataframe thead th {\n        text-align: right;\n    }\n</style>\n<table border=\"1\" class=\"dataframe\">\n  <thead>\n    <tr style=\"text-align: right;\">\n      <th></th>\n      <th>one_hot__fuelType_benzin</th>\n      <th>one_hot__fuelType_diesel</th>\n      <th>one_hot__fuelType_hybrid</th>\n      <th>remainder__price</th>\n      <th>remainder__yearOfRegistration</th>\n      <th>remainder__powerPS</th>\n      <th>remainder__kilometer</th>\n    </tr>\n  </thead>\n  <tbody>\n    <tr>\n      <th>0</th>\n      <td>1.0</td>\n      <td>0.0</td>\n      <td>0.0</td>\n      <td>1450.0</td>\n      <td>1997.0</td>\n      <td>75.0</td>\n      <td>90000.0</td>\n    </tr>\n    <tr>\n      <th>1</th>\n      <td>1.0</td>\n      <td>0.0</td>\n      <td>0.0</td>\n      <td>13100.0</td>\n      <td>2005.0</td>\n      <td>280.0</td>\n      <td>5000.0</td>\n    </tr>\n    <tr>\n      <th>2</th>\n      <td>1.0</td>\n      <td>0.0</td>\n      <td>0.0</td>\n      <td>4500.0</td>\n      <td>2008.0</td>\n      <td>87.0</td>\n      <td>90000.0</td>\n    </tr>\n    <tr>\n      <th>3</th>\n      <td>0.0</td>\n      <td>1.0</td>\n      <td>0.0</td>\n      <td>6000.0</td>\n      <td>2009.0</td>\n      <td>177.0</td>\n      <td>125000.0</td>\n    </tr>\n    <tr>\n      <th>4</th>\n      <td>1.0</td>\n      <td>0.0</td>\n      <td>0.0</td>\n      <td>3990.0</td>\n      <td>1999.0</td>\n      <td>118.0</td>\n      <td>90000.0</td>\n    </tr>\n    <tr>\n      <th>...</th>\n      <td>...</td>\n      <td>...</td>\n      <td>...</td>\n      <td>...</td>\n      <td>...</td>\n      <td>...</td>\n      <td>...</td>\n    </tr>\n    <tr>\n      <th>233</th>\n      <td>1.0</td>\n      <td>0.0</td>\n      <td>0.0</td>\n      <td>23400.0</td>\n      <td>2014.0</td>\n      <td>160.0</td>\n      <td>40000.0</td>\n    </tr>\n    <tr>\n      <th>234</th>\n      <td>1.0</td>\n      <td>0.0</td>\n      <td>0.0</td>\n      <td>9000.0</td>\n      <td>2014.0</td>\n      <td>67.0</td>\n      <td>20000.0</td>\n    </tr>\n    <tr>\n      <th>235</th>\n      <td>1.0</td>\n      <td>0.0</td>\n      <td>0.0</td>\n      <td>5500.0</td>\n      <td>2009.0</td>\n      <td>109.0</td>\n      <td>125000.0</td>\n    </tr>\n    <tr>\n      <th>236</th>\n      <td>1.0</td>\n      <td>0.0</td>\n      <td>0.0</td>\n      <td>1600.0</td>\n      <td>2002.0</td>\n      <td>75.0</td>\n      <td>125000.0</td>\n    </tr>\n    <tr>\n      <th>237</th>\n      <td>1.0</td>\n      <td>0.0</td>\n      <td>0.0</td>\n      <td>11750.0</td>\n      <td>2014.0</td>\n      <td>109.0</td>\n      <td>20000.0</td>\n    </tr>\n  </tbody>\n</table>\n<p>238 rows × 7 columns</p>\n</div>"
     },
     "execution_count": 4,
     "metadata": {},
     "output_type": "execute_result"
    }
   ],
   "source": [
    "from sklearn.preprocessing import OneHotEncoder\n",
    "from sklearn.compose import ColumnTransformer\n",
    "\n",
    "transformer = ColumnTransformer(transformers=[\n",
    "    ('one_hot', OneHotEncoder(), ['fuelType']),\n",
    "], remainder='passthrough')\n",
    "\n",
    "transformed = transformer.fit_transform(df)\n",
    "df = pd.DataFrame(transformed, columns=transformer.get_feature_names_out())\n",
    "df"
   ],
   "metadata": {
    "collapsed": false
   }
  },
  {
   "cell_type": "markdown",
   "source": [
    "## Training\n",
    "\n",
    "* Verwende 20% Testdaten und `random_state=42`\n",
    "* predicte `price`\n",
    "* Verwende eine LinearRegression und ermittle, welches Feature einen negativen Einfluss auf den Preis hat\n",
    "* Verwende einen RandomForestRegressor und ermittle das wichtigste Feature"
   ],
   "metadata": {
    "collapsed": false
   }
  },
  {
   "cell_type": "code",
   "execution_count": 5,
   "outputs": [],
   "source": [
    "X = df.drop(columns='remainder__price')\n",
    "y = df.remainder__price\n",
    "X_train, X_test, y_train, y_test = train_test_split(X, y, test_size=0.2, random_state=42)\n",
    "\n",
    "scaler = RobustScaler()\n",
    "X_train = scaler.fit_transform(X_train)\n",
    "X_test = scaler.transform(X_test)"
   ],
   "metadata": {
    "collapsed": false
   }
  },
  {
   "cell_type": "code",
   "execution_count": 6,
   "outputs": [
    {
     "data": {
      "text/plain": "3790.5389359995934"
     },
     "execution_count": 6,
     "metadata": {},
     "output_type": "execute_result"
    }
   ],
   "source": [
    "model = LinearRegression()\n",
    "model.fit(X_train, y_train)\n",
    "predictions = model.predict(X_test)\n",
    "error = mean_squared_error(y_true=y_test, y_pred=predictions)\n",
    "np.sqrt(error)"
   ],
   "metadata": {
    "collapsed": false
   }
  },
  {
   "cell_type": "code",
   "execution_count": 46,
   "outputs": [
    {
     "data": {
      "text/plain": "array([-2133.81689571,  2838.55329261,  -704.7363969 ,  1182.6457285 ,\n        6105.75566778, -6019.37154603])"
     },
     "execution_count": 46,
     "metadata": {},
     "output_type": "execute_result"
    }
   ],
   "source": [
    "model.coef_"
   ],
   "metadata": {
    "collapsed": false
   }
  },
  {
   "cell_type": "code",
   "execution_count": 7,
   "outputs": [
    {
     "data": {
      "text/plain": "<AxesSubplot:>"
     },
     "execution_count": 7,
     "metadata": {},
     "output_type": "execute_result"
    },
    {
     "data": {
      "text/plain": "<Figure size 640x480 with 1 Axes>",
      "image/png": "[encoded data removed]"
     },
     "metadata": {},
     "output_type": "display_data"
    }
   ],
   "source": [
    "forest = RandomForestRegressor()\n",
    "forest.fit(X_train, y_train)\n",
    "predictions = forest.predict(X_test)\n",
    "error = mean_squared_error(y_true=y_test, y_pred=predictions)\n",
    "np.sqrt(error)\n",
    "\n",
    "\n",
    "errors = {}\n",
    "\n",
    "\n",
    "def calc_error(model, X_test, y_true):\n",
    "    predictions = model.predict(X_test)\n",
    "    return np.sqrt(mean_squared_error(y_true, predictions))\n",
    "\n",
    "\n",
    "for n in range(40, 200, 20):\n",
    "    forest = RandomForestRegressor(n_estimators=n)\n",
    "    forest.fit(X_train, y_train)\n",
    "    errors[n] = calc_error(forest, X_test, y_test)\n",
    "sns.lineplot(data=errors, x=errors.keys(), y=errors.values())"
   ],
   "metadata": {
    "collapsed": false
   }
  },
  {
   "cell_type": "code",
   "execution_count": 61,
   "outputs": [
    {
     "data": {
      "text/plain": "array([1.20521231e-02, 1.85574584e-02, 1.01217081e-04, 3.05520507e-01,\n       4.43536243e-01, 2.20232452e-01])"
     },
     "execution_count": 61,
     "metadata": {},
     "output_type": "execute_result"
    }
   ],
   "source": [
    "forest.feature_importances_\n",
    "\n",
    "##yearOfRegistration is the most important feature and price is the second most important feature"
   ],
   "metadata": {
    "collapsed": false
   }
  },
  {
   "cell_type": "markdown",
   "source": [
    "## Evaluierung\n",
    "\n",
    "* Ermittle den mean squared error für beide Modelle\n",
    "* Performt eines der models besser, wenn die Daten skaliert werden?"
   ],
   "metadata": {
    "collapsed": false
   }
  },
  {
   "cell_type": "code",
   "execution_count": 48,
   "outputs": [
    {
     "data": {
      "text/plain": "3790.5389359995934"
     },
     "execution_count": 48,
     "metadata": {},
     "output_type": "execute_result"
    }
   ],
   "source": [
    "predictions = model.predict(X_test)\n",
    "error = mean_squared_error(y_true=y_test, y_pred=predictions)\n",
    "np.sqrt(error)"
   ],
   "metadata": {
    "collapsed": false
   }
  },
  {
   "cell_type": "code",
   "execution_count": 63,
   "outputs": [
    {
     "data": {
      "text/plain": "3325.441167660295"
     },
     "execution_count": 63,
     "metadata": {},
     "output_type": "execute_result"
    }
   ],
   "source": [
    "predictions = forest.predict(X_test)\n",
    "error = mean_squared_error(y_true=y_test, y_pred=predictions)\n",
    "np.sqrt(error)\n",
    "## das RandomForrestRegression Model schneidet besser ab"
   ],
   "metadata": {
    "collapsed": false
   }
  },
  {
   "cell_type": "markdown",
   "source": [
    "### Tuning\n",
    "\n",
    "Finde ein model, welches am Testset einen mse < 3200 aufweist"
   ],
   "metadata": {
    "collapsed": false
   }
  },
  {
   "cell_type": "code",
   "execution_count": 65,
   "outputs": [
    {
     "data": {
      "text/plain": "GridSearchCV(cv=5, estimator=RandomForestRegressor(), n_jobs=4,\n             param_grid={'max_features': [1.0, 'sqrt', 'log2'],\n                         'n_estimators': range(50, 90, 50)},\n             scoring='neg_mean_squared_error')"
     },
     "execution_count": 65,
     "metadata": {},
     "output_type": "execute_result"
    }
   ],
   "source": [
    "params = {'n_estimators': range(50, 90, 50),\n",
    "          'max_features': [1.0, 'sqrt', 'log2']}\n",
    "grid = GridSearchCV(estimator=RandomForestRegressor(),\n",
    "                    param_grid=params,\n",
    "                    scoring='neg_mean_squared_error',  # -mse, damit höher=besser\n",
    "                    cv=5,\n",
    "                    n_jobs=4)\n",
    "grid.fit(X_train, y_train)"
   ],
   "metadata": {
    "collapsed": false
   }
  },
  {
   "cell_type": "code",
   "execution_count": 66,
   "outputs": [
    {
     "data": {
      "text/plain": "2941.752006125992"
     },
     "execution_count": 66,
     "metadata": {},
     "output_type": "execute_result"
    }
   ],
   "source": [
    "predictions = grid.predict(X_test)\n",
    "error = mean_squared_error(y_true=y_test, y_pred=predictions)\n",
    "np.sqrt(error)\n",
    "## mit etwas testen und analysieren der GridSearchCV cv_results_ konnte ich den Fehler auf 2941.752006125992 hinunter bringen"
   ],
   "metadata": {
    "collapsed": false
   }
  },
  {
   "cell_type": "code",
   "execution_count": 42,
   "outputs": [
    {
     "data": {
      "text/plain": "   mean_fit_time  std_fit_time  mean_score_time  std_score_time  \\\n0       0.134792      0.011902         0.006784        0.003342   \n1       0.145209      0.044339         0.029332        0.042687   \n2       0.156689      0.016627         0.020011        0.026571   \n\n  param_max_features param_n_estimators  \\\n0                1.0                 50   \n1               sqrt                 50   \n2               log2                 50   \n\n                                         params  split0_test_score  \\\n0     {'max_features': 1.0, 'n_estimators': 50}      -5.331104e+07   \n1  {'max_features': 'sqrt', 'n_estimators': 50}      -4.349884e+07   \n2  {'max_features': 'log2', 'n_estimators': 50}      -4.402100e+07   \n\n   split1_test_score  split2_test_score  split3_test_score  split4_test_score  \\\n0      -2.050817e+07      -4.032237e+07      -1.855763e+07      -1.746443e+07   \n1      -2.095634e+07      -4.165163e+07      -1.402615e+07      -1.061793e+07   \n2      -1.857175e+07      -3.861246e+07      -1.460065e+07      -1.322271e+07   \n\n   mean_test_score  std_test_score  rank_test_score  \n0    -3.003273e+07    1.433955e+07                3  \n1    -2.615018e+07    1.383105e+07                2  \n2    -2.580571e+07    1.289981e+07                1  ",
      "text/html": "<div>\n<style scoped>\n    .dataframe tbody tr th:only-of-type {\n        vertical-align: middle;\n    }\n\n    .dataframe tbody tr th {\n        vertical-align: top;\n    }\n\n    .dataframe thead th {\n        text-align: right;\n    }\n</style>\n<table border=\"1\" class=\"dataframe\">\n  <thead>\n    <tr style=\"text-align: right;\">\n      <th></th>\n      <th>mean_fit_time</th>\n      <th>std_fit_time</th>\n      <th>mean_score_time</th>\n      <th>std_score_time</th>\n      <th>param_max_features</th>\n      <th>param_n_estimators</th>\n      <th>params</th>\n      <th>split0_test_score</th>\n      <th>split1_test_score</th>\n      <th>split2_test_score</th>\n      <th>split3_test_score</th>\n      <th>split4_test_score</th>\n      <th>mean_test_score</th>\n      <th>std_test_score</th>\n      <th>rank_test_score</th>\n    </tr>\n  </thead>\n  <tbody>\n    <tr>\n      <th>0</th>\n      <td>0.134792</td>\n      <td>0.011902</td>\n      <td>0.006784</td>\n      <td>0.003342</td>\n      <td>1.0</td>\n      <td>50</td>\n      <td>{'max_features': 1.0, 'n_estimators': 50}</td>\n      <td>-5.331104e+07</td>\n      <td>-2.050817e+07</td>\n      <td>-4.032237e+07</td>\n      <td>-1.855763e+07</td>\n      <td>-1.746443e+07</td>\n      <td>-3.003273e+07</td>\n      <td>1.433955e+07</td>\n      <td>3</td>\n    </tr>\n    <tr>\n      <th>1</th>\n      <td>0.145209</td>\n      <td>0.044339</td>\n      <td>0.029332</td>\n      <td>0.042687</td>\n      <td>sqrt</td>\n      <td>50</td>\n      <td>{'max_features': 'sqrt', 'n_estimators': 50}</td>\n      <td>-4.349884e+07</td>\n      <td>-2.095634e+07</td>\n      <td>-4.165163e+07</td>\n      <td>-1.402615e+07</td>\n      <td>-1.061793e+07</td>\n      <td>-2.615018e+07</td>\n      <td>1.383105e+07</td>\n      <td>2</td>\n    </tr>\n    <tr>\n      <th>2</th>\n      <td>0.156689</td>\n      <td>0.016627</td>\n      <td>0.020011</td>\n      <td>0.026571</td>\n      <td>log2</td>\n      <td>50</td>\n      <td>{'max_features': 'log2', 'n_estimators': 50}</td>\n      <td>-4.402100e+07</td>\n      <td>-1.857175e+07</td>\n      <td>-3.861246e+07</td>\n      <td>-1.460065e+07</td>\n      <td>-1.322271e+07</td>\n      <td>-2.580571e+07</td>\n      <td>1.289981e+07</td>\n      <td>1</td>\n    </tr>\n  </tbody>\n</table>\n</div>"
     },
     "execution_count": 42,
     "metadata": {},
     "output_type": "execute_result"
    }
   ],
   "source": [
    "pd.DataFrame(grid.cv_results_)"
   ],
   "metadata": {
    "collapsed": false
   }
  }
 ],
 "metadata": {
  "kernelspec": {
   "display_name": "Python 3",
   "language": "python",
   "name": "python3"
  },
  "language_info": {
   "codemirror_mode": {
    "name": "ipython",
    "version": 2
   },
   "file_extension": ".py",
   "mimetype": "text/x-python",
   "name": "python",
   "nbconvert_exporter": "python",
   "pygments_lexer": "ipython2",
   "version": "2.7.6"
  }
 },
 "nbformat": 4,
 "nbformat_minor": 0
}
